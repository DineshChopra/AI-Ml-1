{
  "nbformat": 4,
  "nbformat_minor": 0,
  "metadata": {
    "accelerator": "GPU",
    "colab": {
      "name": "C2_W2_Lab_1_Simple_Feature_Engineering.ipynb",
      "provenance": [],
      "authorship_tag": "ABX9TyO52bbJYLGKxqzg+47qo17D",
      "include_colab_link": true
    },
    "kernelspec": {
      "display_name": "Python 3",
      "name": "python3"
    },
    "language_info": {
      "name": "python"
    }
  },
  "cells": [
    {
      "cell_type": "markdown",
      "metadata": {
        "id": "view-in-github",
        "colab_type": "text"
      },
      "source": [
        "<a href=\"https://colab.research.google.com/github/rmnchopra91/AI-Ml/blob/main/C2_W2_Lab_1_Simple_Feature_Engineering.ipynb\" target=\"_parent\"><img src=\"https://colab.research.google.com/assets/colab-badge.svg\" alt=\"Open In Colab\"/></a>"
      ]
    },
    {
      "cell_type": "markdown",
      "metadata": {
        "id": "RLywDOVgu4t_"
      },
      "source": [
        "##Ungraded Lab: Simple Feature Engineering\n",
        "In this lab, you will get some hands-on practice with the [Tensorflow Transform](https://www.tensorflow.org/tfx/transform/get_started) library (or tf.Transform). This serves to show what is going on under the hood when you get to use the [TFX Transform](https://www.tensorflow.org/tfx/guide/transform) component within a TFX pipeline in the next labs. The code snippets and main discussions are taken from this [TensorFlow official notebook](https://www.tensorflow.org/tfx/tutorials/transform/simple) but we have expounded on a few key points.\n",
        "\n",
        "Preprocessing is often required in ML projects because the raw data is not yet in a suitable format for training a model. Not doing so usually results in the model not converging or having poor performance. Some standard transformations include normalizing pixel values, bucketizing, one-hot encoding, and the like. Consequently, these same transformations should also be done during inference to ensure that the model is computing the correct predictions.\n",
        "\n",
        "With Tensorflow Transform, you can preprocess data using the same code for both training a model and serving inferences in production. It provides several utility functions for common preprocessing tasks including creating features that require a full pass over the training dataset. The outputs are the transformed features and a TensorFlow graph which you can use for both training and serving. Using the same graph for both training and serving can prevent feature skew, since the same transformations are applied in both stages.\n",
        "\n",
        "For this introductory exercise, you will walk through the \"Hello World\" of using TensorFlow Transform to preprocess input data. As you've seen in class, the main steps are to:\n",
        "\n",
        "\n",
        "\n",
        "1.   Collect raw data\n",
        "2.   Define metadata\n",
        "3.   Create a preprocessing function\n",
        "4.   Generate a constant graph with the required transformations\n",
        "\n",
        "Let's begin!"
      ]
    },
    {
      "cell_type": "code",
      "metadata": {
        "colab": {
          "background_save": true,
          "base_uri": "https://localhost:8080/"
        },
        "id": "8YwUIQUWcSXz",
        "outputId": "dc738ffd-36de-4417-aa78-f868a67ecbe2"
      },
      "source": [
        "!python --version\n",
        "!pip install -q -U tensorflow_transform==0.24.1"
      ],
      "execution_count": null,
      "outputs": [
        {
          "name": "stdout",
          "output_type": "stream",
          "text": [
            "Python 3.7.11\n",
            "\u001b[K     |████████████████████████████████| 373 kB 5.3 MB/s \n",
            "\u001b[K     |████████████████████████████████| 1.8 MB 39.8 MB/s \n",
            "\u001b[K     |████████████████████████████████| 9.8 MB 33.1 MB/s \n",
            "\u001b[K     |████████████████████████████████| 44 kB 2.2 MB/s \n",
            "\u001b[K     |████████████████████████████████| 320.6 MB 49 kB/s \n",
            "\u001b[K     |████████████████████████████████| 127 kB 48.9 MB/s \n",
            "\u001b[K     |████████████████████████████████| 829 kB 39.7 MB/s \n",
            "\u001b[K     |████████████████████████████████| 151 kB 47.6 MB/s \n",
            "\u001b[K     |████████████████████████████████| 62 kB 789 kB/s \n",
            "\u001b[K     |████████████████████████████████| 234 kB 48.4 MB/s \n",
            "\u001b[K     |████████████████████████████████| 2.3 MB 35.7 MB/s \n",
            "\u001b[K     |████████████████████████████████| 267 kB 41.4 MB/s \n",
            "\u001b[K     |████████████████████████████████| 83 kB 1.9 MB/s \n",
            "\u001b[K     |████████████████████████████████| 183 kB 52.1 MB/s \n",
            "\u001b[K     |████████████████████████████████| 173 kB 48.2 MB/s \n",
            "\u001b[K     |████████████████████████████████| 180 kB 44.8 MB/s \n",
            "\u001b[K     |████████████████████████████████| 169 kB 50.6 MB/s \n",
            "\u001b[K     |████████████████████████████████| 435 kB 42.1 MB/s \n",
            "\u001b[K     |████████████████████████████████| 255 kB 48.0 MB/s \n",
            "\u001b[K     |████████████████████████████████| 144 kB 47.7 MB/s \n",
            "\u001b[K     |████████████████████████████████| 42 kB 1.3 MB/s \n",
            "\u001b[K     |████████████████████████████████| 2.9 MB 32.9 MB/s \n",
            "\u001b[K     |████████████████████████████████| 20.1 MB 6.9 MB/s \n",
            "\u001b[K     |████████████████████████████████| 459 kB 48.1 MB/s \n",
            "\u001b[K     |████████████████████████████████| 63.8 MB 32 kB/s \n",
            "\u001b[?25h  Building wheel for avro-python3 (setup.py) ... \u001b[?25l\u001b[?25hdone\n",
            "  Building wheel for dill (setup.py) ... \u001b[?25l\u001b[?25hdone\n",
            "  Building wheel for future (setup.py) ... \u001b[?25l\u001b[?25hdone\n",
            "  Building wheel for google-apitools (setup.py) ... \u001b[?25l\u001b[?25hdone\n",
            "  Building wheel for grpc-google-iam-v1 (setup.py) ... \u001b[?25l\u001b[?25hdone\n",
            "\u001b[31mERROR: pip's dependency resolver does not currently take into account all the packages that are installed. This behaviour is the source of the following dependency conflicts.\n",
            "multiprocess 0.70.12.2 requires dill>=0.3.4, but you have dill 0.3.1.1 which is incompatible.\n",
            "google-colab 1.0.0 requires requests~=2.23.0, but you have requests 2.26.0 which is incompatible.\n",
            "datascience 0.10.6 requires folium==0.2.1, but you have folium 0.8.3 which is incompatible.\n",
            "albumentations 0.1.12 requires imgaug<0.2.7,>=0.2.5, but you have imgaug 0.2.9 which is incompatible.\u001b[0m\n"
          ]
        }
      ]
    },
    {
      "cell_type": "code",
      "metadata": {
        "colab": {
          "base_uri": "https://localhost:8080/",
          "height": 374
        },
        "id": "xMRJif_W1xCA",
        "outputId": "b4643ead-7268-4e54-e87f-ea17f9f60e9a"
      },
      "source": [
        "import tensorflow as tf\n",
        "import tensorflow_transform as tft\n",
        "import tensorflow_transform.beam as tft_beam\n",
        "\n",
        "from tensorflow_transform.tf_metadata import dataset_metadata\n",
        "from tensorflow_transform.tf_metadata import schema_utils\n",
        "\n",
        "import pprint\n",
        "import tempfile\n",
        "\n",
        "print(f'TensorFlow version: {tf.__version__}')\n",
        "print(f'TFX Transform version: {tft.__version__}')"
      ],
      "execution_count": null,
      "outputs": [
        {
          "ename": "ModuleNotFoundError",
          "evalue": "ignored",
          "output_type": "error",
          "traceback": [
            "\u001b[0;31m---------------------------------------------------------------------------\u001b[0m",
            "\u001b[0;31mModuleNotFoundError\u001b[0m                       Traceback (most recent call last)",
            "\u001b[0;32m<ipython-input-1-02b0161a0108>\u001b[0m in \u001b[0;36m<module>\u001b[0;34m()\u001b[0m\n\u001b[1;32m      1\u001b[0m \u001b[0;32mimport\u001b[0m \u001b[0mtensorflow\u001b[0m \u001b[0;32mas\u001b[0m \u001b[0mtf\u001b[0m\u001b[0;34m\u001b[0m\u001b[0;34m\u001b[0m\u001b[0m\n\u001b[0;32m----> 2\u001b[0;31m \u001b[0;32mimport\u001b[0m \u001b[0mtensorflow_transform\u001b[0m \u001b[0;32mas\u001b[0m \u001b[0mtft\u001b[0m\u001b[0;34m\u001b[0m\u001b[0;34m\u001b[0m\u001b[0m\n\u001b[0m\u001b[1;32m      3\u001b[0m \u001b[0;32mimport\u001b[0m \u001b[0mtensorflow_transform\u001b[0m\u001b[0;34m.\u001b[0m\u001b[0mbeam\u001b[0m \u001b[0;32mas\u001b[0m \u001b[0mtft_beam\u001b[0m\u001b[0;34m\u001b[0m\u001b[0;34m\u001b[0m\u001b[0m\n\u001b[1;32m      4\u001b[0m \u001b[0;34m\u001b[0m\u001b[0m\n\u001b[1;32m      5\u001b[0m \u001b[0;32mfrom\u001b[0m \u001b[0mtensorflow_transform\u001b[0m\u001b[0;34m.\u001b[0m\u001b[0mtf_metadata\u001b[0m \u001b[0;32mimport\u001b[0m \u001b[0mdataset_metadata\u001b[0m\u001b[0;34m\u001b[0m\u001b[0;34m\u001b[0m\u001b[0m\n",
            "\u001b[0;31mModuleNotFoundError\u001b[0m: No module named 'tensorflow_transform'",
            "",
            "\u001b[0;31m---------------------------------------------------------------------------\u001b[0;32m\nNOTE: If your import is failing due to a missing package, you can\nmanually install dependencies using either !pip or !apt.\n\nTo view examples of installing some common dependencies, click the\n\"Open Examples\" button below.\n\u001b[0;31m---------------------------------------------------------------------------\u001b[0m\n"
          ]
        }
      ]
    },
    {
      "cell_type": "markdown",
      "metadata": {
        "id": "nTY2g9gDiv77"
      },
      "source": [
        "##Collect raw data¶\n",
        "First, you will need to load your data. For simplicity, we will not use a real dataset in this exercise. You will do that in the next lab. For now, you will just use dummy data so you can inspect the transformations more easily."
      ]
    },
    {
      "cell_type": "code",
      "metadata": {
        "id": "vppRr6nfi1Hh"
      },
      "source": [
        "# define sample data\n",
        "raw_data = [\n",
        "      {'x': 1, 'y': 1, 's': 'hello'},\n",
        "      {'x': 2, 'y': 2, 's': 'world'},\n",
        "      {'x': 3, 'y': 3, 's': 'hello'}\n",
        "  ]"
      ],
      "execution_count": null,
      "outputs": []
    },
    {
      "cell_type": "markdown",
      "metadata": {
        "id": "Cy830Stzi1-g"
      },
      "source": [
        "##Define the metadata\n",
        "Next, you will define the metadata. This contains the schema that tells the types of each feature column (or key) in raw_data. You need to take note of a few things:\n",
        "\n",
        "\n",
        "\n",
        "*   The transform function later expects the metadata to be packed in a [DatasetMetadata](https://github.com/tensorflow/transform/blob/master/tensorflow_transform/tf_metadata/dataset_metadata.py#L23) object.\n",
        "*   The constructor for the DatasetMetadata class expects a [Schema protocol buffer](https://github.com/tensorflow/metadata/blob/master/tensorflow_metadata/proto/v0/schema.proto#L46) data type. You can use the schema_from_feature_spec() [link text](https://github.com/tensorflow/transform/blob/master/tensorflow_transform/tf_metadata/schema_utils.py#L36) method to generate that from a dictionary.\n",
        "*   To build the said dictionary, you will use the keys/column names of raw_data and assign a [FeatureSpecType](https://github.com/tensorflow/transform/blob/master/tensorflow_transform/common_types.py#L29) as values. This allows you to specify if the input is fixed or variable length (using [tf.io](https://www.tensorflow.org/api_docs/python/tf/io) classes), as well as to define the shape and data type.\n",
        "\n",
        "See how this is implemented in the cell below."
      ]
    },
    {
      "cell_type": "code",
      "metadata": {
        "id": "10L7P5n0jyqC"
      },
      "source": [
        "# define the schema as a DatasetMetadata object\n",
        "raw_data_metadata = dataset_metadata.DatasetMetadata(\n",
        "    \n",
        "    # use convenience function to build a Schema protobuf\n",
        "    schema_utils.schema_from_feature_spec({\n",
        "        \n",
        "        # define a dictionary mapping the keys to its feature spec type\n",
        "        'y': tf.io.FixedLenFeature([], tf.float32),\n",
        "        'x': tf.io.FixedLenFeature([], tf.float32),\n",
        "        's': tf.io.FixedLenFeature([], tf.string),\n",
        "    }))"
      ],
      "execution_count": null,
      "outputs": []
    },
    {
      "cell_type": "code",
      "metadata": {
        "id": "POEySSLbj3lp"
      },
      "source": [
        "# preview the schema\n",
        "print(raw_data_metadata._schema)"
      ],
      "execution_count": null,
      "outputs": []
    },
    {
      "cell_type": "markdown",
      "metadata": {
        "id": "1PeERorXj7f6"
      },
      "source": [
        "##Create a preprocessing function¶\n",
        "The preprocessing function is the most important concept of tf.Transform. A preprocessing function is where the transformation of the dataset really happens. It accepts and returns a dictionary of tensors, where a tensor means a [Tensor](https://www.tensorflow.org/versions/r1.15/api_docs/python/tf/Tensor) or [SparseTensor](tensorflow.org/versions/r1.15/api_docs/python/tf/sparse/SparseTensor). There are two main groups of API calls that typically form the heart of a preprocessing function:\n",
        "\n",
        "\n",
        "\n",
        "1.   TensorFlow Ops: Any function that accepts and returns tensors. These add TensorFlow operations to the graph that transforms raw data into transformed data one feature vector at a time. These will run for every example, during both training and serving.\n",
        "2.   TensorFlow Transform Analyzers: Any of the analyzers provided by tf.Transform. Analyzers also accept and return tensors, but unlike TensorFlow ops they only run once during training, and typically make a full pass over the entire training dataset. They create [tensor constants](https://www.tensorflow.org/versions/r1.15/api_docs/python/tf/constant), which are added to your graph. For example, tft.min computes the minimum of a tensor over the training dataset.\n",
        "\n",
        "*Caution:* When you apply your preprocessing function to serving inferences, the constants that were created by analyzers during training do not change. If your data has trend or seasonality components, plan accordingly.\n",
        "\n",
        "You can see available functions to transform your data [here](https://www.tensorflow.org/tfx/transform/api_docs/python/tft)."
      ]
    },
    {
      "cell_type": "code",
      "metadata": {
        "id": "dhBjXQhmklBs"
      },
      "source": [
        "def preprocessing_fn(inputs):\n",
        "    \"\"\"Preprocess input columns into transformed columns.\"\"\"\n",
        "    \n",
        "    # extract the columns and assign to local variables\n",
        "    x = inputs['x']\n",
        "    y = inputs['y']\n",
        "    s = inputs['s']\n",
        "    \n",
        "    # data transformations using tft functions\n",
        "    x_centered = x - tft.mean(x)\n",
        "    y_normalized = tft.scale_to_0_1(y)\n",
        "    s_integerized = tft.compute_and_apply_vocabulary(s)\n",
        "    x_centered_times_y_normalized = (x_centered * y_normalized)\n",
        "    \n",
        "    # return the transformed data\n",
        "    return {\n",
        "        'x_centered': x_centered,\n",
        "        'y_normalized': y_normalized,\n",
        "        's_integerized': s_integerized,\n",
        "        'x_centered_times_y_normalized': x_centered_times_y_normalized,\n",
        "    }"
      ],
      "execution_count": null,
      "outputs": []
    },
    {
      "cell_type": "markdown",
      "metadata": {
        "id": "F0k7FbACksrT"
      },
      "source": [
        "##Generate a constant graph with the required transformations\n",
        "Now you're ready to put everything together and transform your data. Like TFDV last week, Tensorflow Transform also uses [Apache Beam](https://beam.apache.org/) for deployment scalability and flexibility. As you'll see below, Beam uses the pipe (|) operator to stack the different stages of the pipeline. In this case, you will just feed the data (and metadata) to the [AnalyzeAndTransformDataset](https://www.tensorflow.org/tfx/transform/api_docs/python/tft_beam/AnalyzeAndTransformDataset) class and use the preprocessing function you defined above to transform the data.\n",
        "\n",
        "For a closer look at Beam syntax for tranform pipelines, you can refer to the documentation [here](https://beam.apache.org/documentation/programming-guide/#applying-transforms).\n",
        "\n",
        "*Note: You can safely ignore the warning about unparseable args shown after running the cell below.*"
      ]
    },
    {
      "cell_type": "code",
      "metadata": {
        "id": "pdTm2HbblHQS"
      },
      "source": [
        "# Ignore the warnings\n",
        "tf.get_logger().setLevel('ERROR')\n",
        "\n",
        "# a temporary directory is needed when analyzing the data\n",
        "with tft_beam.Context(temp_dir=tempfile.mkdtemp()):\n",
        "    \n",
        "    # define the pipeline using Apache Beam syntax\n",
        "    transformed_dataset, transform_fn = (\n",
        "        \n",
        "        # analyze and transform the dataset using the preprocessing function\n",
        "        (raw_data, raw_data_metadata) | tft_beam.AnalyzeAndTransformDataset(\n",
        "            preprocessing_fn)\n",
        "    )\n",
        "\n",
        "# unpack the transformed dataset\n",
        "transformed_data, transformed_metadata = transformed_dataset\n",
        "\n",
        "# print the results\n",
        "print('\\nRaw data:\\n{}\\n'.format(pprint.pformat(raw_data)))\n",
        "print('Transformed data:\\n{}'.format(pprint.pformat(transformed_data)))"
      ],
      "execution_count": null,
      "outputs": []
    },
    {
      "cell_type": "markdown",
      "metadata": {
        "id": "-3CxOPxZlNXV"
      },
      "source": [
        "##Is this the right answer?\n",
        "Previously, you used tf.Transform to do this:\n",
        "\n",
        "> x_centered = x - tft.mean(x)\n",
        "\n",
        "> y_normalized = tft.scale_to_0_1(y)\n",
        "\n",
        "> s_integerized = tft.compute_and_apply_vocabulary(s)\n",
        "\n",
        "> x_centered_times_y_normalized = (x_centered * y_normalized)\n",
        "\n",
        "\n",
        "**x_centered**\n",
        "With input of [1, 2, 3] the mean of x is 2, and you subtract it from x to center your x values at 0. So the result of [-1.0, 0.0, 1.0] is correct.\n",
        "\n",
        "**y_normalized**\n",
        "Next, you scaled your y values between 0 and 1. Your input was [1, 2, 3] so the result of [0.0, 0.5, 1.0] is correct.\n",
        "\n",
        "**s_integerized**\n",
        "You mapped your strings to indexes in a vocabulary, and there were only 2 words in your vocabulary (\"hello\" and \"world\"). So with input of [\"hello\", \"world\", \"hello\"] the result of [0, 1, 0] is correct.\n",
        "\n",
        "**x_centered_times_y_normalized**\n",
        "You created a new feature by crossing x_centered and y_normalized using multiplication. Note that this multiplies the results, not the original values, and the new result of [-0.0, 0.0, 1.0] is correct.\n",
        "\n",
        "**Wrap Up**\n",
        "In this lab, you went through the fundamentals of using Tensorflow Transform to turn raw data into features. This code can be used to transform both the training and serving data. However, the code can be quite complex if you'll be using this as a standalone library to build a pipeline (see this [notebook](https://www.tensorflow.org/tfx/tutorials/transform/census) for reference). Now that you know what is going on under the hood, you can use a higher-level set of tools like [Tensorflow Extended](https://www.tensorflow.org/tfx) to simplify the process. This will abstract some of the steps you did here like manually defining schemas and using tft_beam functions. It will also leverage other libraries, such as TFDV, to perform other processes in the usual machine learning pipeline like detecting anomalies. You will get to see these in the next lab."
      ]
    },
    {
      "cell_type": "code",
      "metadata": {
        "id": "qezRPlnXmAn_"
      },
      "source": [
        ""
      ],
      "execution_count": null,
      "outputs": []
    }
  ]
}